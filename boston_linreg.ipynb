{
 "cells": [
  {
   "cell_type": "markdown",
   "id": "d35ce829-cb12-4213-bcbb-2d0042f68de1",
   "metadata": {},
   "source": [
    "# Boston housing prices linear regression"
   ]
  },
  {
   "cell_type": "code",
   "execution_count": null,
   "id": "b940db15-af0c-451c-9323-42ca8f7d2069",
   "metadata": {},
   "outputs": [],
   "source": [
    "import pandas as pd\n",
    "import numpy as np\n",
    "import statsmodels.api as sm\n",
    "from ISLP import load_data\n",
    "\n",
    "import matplotlib.pyplot as plt\n",
    "import seaborn as sns"
   ]
  },
  {
   "cell_type": "markdown",
   "id": "4d08cd30-9d83-4e1b-9493-99291ccfd680",
   "metadata": {
    "jp-MarkdownHeadingCollapsed": true
   },
   "source": [
    "## Prepare the data"
   ]
  },
  {
   "cell_type": "code",
   "execution_count": null,
   "id": "678f0c26-297c-451d-84cc-27321f938076",
   "metadata": {},
   "outputs": [],
   "source": [
    "Boston = load_data(\"Boston\")\n",
    "Boston.columns"
   ]
  },
  {
   "cell_type": "markdown",
   "id": "362137ae-2c35-4438-9ee8-fe96b30f974b",
   "metadata": {},
   "source": [
    "* **crim**: per capita crime rate by town.\n",
    "* **zn**: proportion of residential land zoned for lots over 25,000 sq.ft.\n",
    "* **indus**: proportion of non-retail business acres per town.\n",
    "* **chas**: Charles River dummy variable (= 1 if tract bounds river; 0 otherwise).\n",
    "* **nox**: nitrogen oxides concentration (parts per 10 million).\n",
    "* **rm**: average number of rooms per dwelling.\n",
    "* **age**: proportion of owner-occupied units built prior to 1940.\n",
    "* **dis**: weighted mean of distances to five Boston employment centres.\n",
    "* **rad**: index of accessibility to radial highways.\n",
    "* **tax**: full-value property-tax rate per \\$10,000.\n",
    "* **ptratio**: pupil-teacher ratio by town.\n",
    "* **lstat**: lower status of the population (percent).\n",
    "* **medv**: median value of owner-occupied homes in \\$1000s."
   ]
  },
  {
   "cell_type": "code",
   "execution_count": null,
   "id": "89cf4caf-1bc3-4874-8b51-59eccc2a64b8",
   "metadata": {},
   "outputs": [],
   "source": [
    "target = 'medv'\n",
    "features = ['crim', 'zn', 'indus', 'chas', 'nox', 'rm', 'age', 'dis', 'rad', 'tax', 'ptratio', 'lstat']"
   ]
  },
  {
   "cell_type": "code",
   "execution_count": null,
   "id": "9d80b210-6661-47b5-bd1c-6998c78316d8",
   "metadata": {},
   "outputs": [],
   "source": [
    "y = Boston[target]\n",
    "X = Boston[features].copy()"
   ]
  },
  {
   "cell_type": "markdown",
   "id": "6cf92e47-766d-480c-98e1-016f72806670",
   "metadata": {},
   "source": [
    "`statsmodels` requires us to add intercept manually"
   ]
  },
  {
   "cell_type": "code",
   "execution_count": null,
   "id": "813ef9a5-8d76-4c12-a052-40dbfca3528a",
   "metadata": {},
   "outputs": [],
   "source": [
    "X['intercept'] = 1.0"
   ]
  },
  {
   "cell_type": "markdown",
   "id": "344fc990-4e2c-4bc8-8a12-21472e366dca",
   "metadata": {
    "jp-MarkdownHeadingCollapsed": true
   },
   "source": [
    "## Fit the model"
   ]
  },
  {
   "cell_type": "code",
   "execution_count": null,
   "id": "f3c7bf26-049c-4181-9f81-2a20437c581f",
   "metadata": {},
   "outputs": [],
   "source": [
    "model = sm.OLS(y, X)\n",
    "results = model.fit()"
   ]
  },
  {
   "cell_type": "markdown",
   "id": "e1885f54-41d8-424d-8de4-c252d2ca0636",
   "metadata": {},
   "source": [
    "Most of the subsequent work will be done with the `results` - a result wrapper returned by the fit model.\n",
    "\n",
    "It contains:\n",
    " - `summary()`\n",
    " - `get_prediction()`\n",
    " - `fittedvalues`\n",
    " - `resid`\n",
    " - `get_influence()`"
   ]
  },
  {
   "cell_type": "code",
   "execution_count": null,
   "id": "d27e8e91-b5dc-453d-a7a1-2584c2e42139",
   "metadata": {},
   "outputs": [],
   "source": [
    "results.summary()"
   ]
  },
  {
   "cell_type": "markdown",
   "id": "c19deadd-2bfb-4998-80bd-6520df60ed90",
   "metadata": {},
   "source": [
    "#### Observations\n",
    "\n",
    "1. `statsmodels` tells that we might have a multicollinearity problem (condition number is big).\n",
    "2. Two featrues are insignificant: `age` and `indus`."
   ]
  },
  {
   "cell_type": "markdown",
   "id": "d0826fc0-9abf-4167-8f94-b764a9df7748",
   "metadata": {},
   "source": [
    "## Predictions"
   ]
  },
  {
   "cell_type": "code",
   "execution_count": null,
   "id": "e3207315-05fe-4c6f-ab30-817244c71fe3",
   "metadata": {},
   "outputs": [],
   "source": [
    "y_test = y.iloc[-2:]\n",
    "X_test = X.iloc[-2:]"
   ]
  },
  {
   "cell_type": "code",
   "execution_count": null,
   "id": "05414978-3a89-4b1c-b9e2-3825f1fec016",
   "metadata": {},
   "outputs": [],
   "source": [
    "prediction = results.get_prediction(X_test)"
   ]
  },
  {
   "cell_type": "markdown",
   "id": "58078223-5729-4a42-b40c-165b76d919f6",
   "metadata": {},
   "source": [
    "`get_prediction()` returns a result wrapper that contains:\n",
    "- `predicted_mean`\n",
    "- `conf_int(obs=False)` - confidence interval\n",
    "- `conf_int(obs=True)` - prediction interval"
   ]
  },
  {
   "cell_type": "code",
   "execution_count": null,
   "id": "a6081457-7b87-4f1e-8c6c-58438e9e8de7",
   "metadata": {},
   "outputs": [],
   "source": [
    "print(\"expected: \", y_test.values)\n",
    "print(\"predicted: \", prediction.predicted_mean.round(1))"
   ]
  },
  {
   "cell_type": "markdown",
   "id": "1c81479e-df05-4f6b-abe6-1f92fb0a72c2",
   "metadata": {},
   "source": [
    "#### Confidence Interval"
   ]
  },
  {
   "cell_type": "code",
   "execution_count": null,
   "id": "51465afb-411a-44f6-b7e3-c93a18af6e72",
   "metadata": {},
   "outputs": [],
   "source": [
    "prediction.conf_int(obs=False, alpha=0.05)"
   ]
  },
  {
   "cell_type": "markdown",
   "id": "2f1e7e9a-d17f-4420-a4d7-eab14552e6b5",
   "metadata": {},
   "source": [
    "#### Prediction Interval"
   ]
  },
  {
   "cell_type": "code",
   "execution_count": null,
   "id": "3a1d44fe-2665-4876-b931-066dc2039015",
   "metadata": {},
   "outputs": [],
   "source": [
    "prediction.conf_int(obs=True, alpha=0.05)"
   ]
  },
  {
   "cell_type": "markdown",
   "id": "4617b1f7-125f-43d9-a246-4869a703fc7d",
   "metadata": {},
   "source": [
    "## Analyze the model"
   ]
  },
  {
   "cell_type": "markdown",
   "id": "c412a11c-8721-48d0-a631-23a8405ce319",
   "metadata": {},
   "source": [
    "### Non-linearity\n",
    "\n",
    "#### How to find?\n",
    "* We analyze residuals in axis $\\hat{y} - y$ vs $\\hat{y}$.\n",
    "* Ideally, there should be no dependence between fitted values and residuals.\n",
    "* Any discernable pattern indicates a problem with linearity.\n",
    "\n",
    "#### How to fix?\n",
    "* Apply non-linear transformations to the features."
   ]
  },
  {
   "cell_type": "code",
   "execution_count": null,
   "id": "8d21a57f-47ae-428c-b296-57c15ec8772c",
   "metadata": {},
   "outputs": [],
   "source": [
    "plt.scatter(results.fittedvalues, results.resid)\n",
    "plt.xlabel('Fitted value')\n",
    "plt.ylabel('Residual')\n",
    "plt.axhline(0, c='k', ls='--');"
   ]
  },
  {
   "cell_type": "markdown",
   "id": "d6a972b1-c410-4f3f-873a-7afc916fdf7b",
   "metadata": {},
   "source": [
    "### High leverage points\n",
    "\n",
    "#### How to find?\n",
    "* Points with unusual values of features (either out of common domain or unusual combination).\n",
    "* Simple linear regression:\n",
    "    $$h_i = \\frac{1}{n} + \\frac{(x_i - \\bar{x})^2}{\\sum_j (x_j - \\bar{x})^2}$$\n",
    "* Multiple regression: diagonal elements of hat matrix $H = X (X^T X)^{-1} X^T$\n",
    "    \n",
    "\n",
    "#### How to fix?\n",
    "* Consider and exclude if they are either non-typical or erroneous."
   ]
  },
  {
   "cell_type": "code",
   "execution_count": null,
   "id": "a176fb21-1cef-42fc-83fd-e08c385c425c",
   "metadata": {},
   "outputs": [],
   "source": [
    "infl = results.get_influence()\n",
    "\n",
    "plt.scatter(np.arange(X.shape[0]), infl.hat_matrix_diag)\n",
    "plt.xlabel('Index')\n",
    "plt.ylabel('Leverage')\n",
    "\n",
    "n = X.shape[0]\n",
    "p = len(features) + 1\n",
    "threshold = 3 * p / n\n",
    "plt.axhline(y = threshold, color = 'r', linestyle = '-')\n",
    "\n",
    "mask = infl.hat_matrix_diag > threshold\n",
    "X[mask]"
   ]
  },
  {
   "cell_type": "code",
   "execution_count": null,
   "id": "557550b5-a06d-4097-b636-1a9a7f60a47f",
   "metadata": {},
   "outputs": [],
   "source": []
  }
 ],
 "metadata": {
  "kernelspec": {
   "display_name": "Python 3 (ipykernel)",
   "language": "python",
   "name": "python3"
  },
  "language_info": {
   "codemirror_mode": {
    "name": "ipython",
    "version": 3
   },
   "file_extension": ".py",
   "mimetype": "text/x-python",
   "name": "python",
   "nbconvert_exporter": "python",
   "pygments_lexer": "ipython3",
   "version": "3.9.6"
  }
 },
 "nbformat": 4,
 "nbformat_minor": 5
}
